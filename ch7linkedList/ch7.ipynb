{
 "cells": [
  {
   "cell_type": "code",
   "execution_count": 1,
   "metadata": {},
   "outputs": [],
   "source": [
    "# implementing a stack with a singly linked list\n",
    "# this is your regular linked list\n",
    "\n",
    "class LinkedStack:\n",
    "\n",
    "        class Node:\n",
    "        # initialize the node's fields\n",
    "            def __init__(self, element, next):\n",
    "                # reference to user's element\n",
    "                self._element = element\n",
    "                # reference to next node\n",
    "                self._next = next\n",
    "\n",
    "        #stack methods\n",
    "        def __init__(self):\n",
    "            # reference to head node\n",
    "            self._head = None\n",
    "            # number of stack elements\n",
    "            self._size = 0\n",
    "        \n",
    "        def __len__(self):\n",
    "            # return the number of elements in the stack\n",
    "            return self._size"
   ]
  },
  {
   "cell_type": "code",
   "execution_count": null,
   "metadata": {},
   "outputs": [],
   "source": [
    "\n"
   ]
  }
 ],
 "metadata": {
  "kernelspec": {
   "display_name": "Python 3.9.12 ('base')",
   "language": "python",
   "name": "python3"
  },
  "language_info": {
   "codemirror_mode": {
    "name": "ipython",
    "version": 3
   },
   "file_extension": ".py",
   "mimetype": "text/x-python",
   "name": "python",
   "nbconvert_exporter": "python",
   "pygments_lexer": "ipython3",
   "version": "3.9.12"
  },
  "orig_nbformat": 4,
  "vscode": {
   "interpreter": {
    "hash": "40203b3ec892d21f304b904bd7441b754322a8b95cad2515f623282baa87ac4b"
   }
  }
 },
 "nbformat": 4,
 "nbformat_minor": 2
}
