{
 "cells": [
  {
   "cell_type": "code",
   "execution_count": 1,
   "metadata": {},
   "outputs": [
    {
     "ename": "SyntaxError",
     "evalue": "invalid syntax (2027727620.py, line 34)",
     "output_type": "error",
     "traceback": [
      "\u001b[0;36m  Input \u001b[0;32mIn [1]\u001b[0;36m\u001b[0m\n\u001b[0;31m    if price _ self._balance > self._limit:\u001b[0m\n\u001b[0m             ^\u001b[0m\n\u001b[0;31mSyntaxError\u001b[0m\u001b[0;31m:\u001b[0m invalid syntax\n"
     ]
    }
   ],
   "source": [
    "# consumer credit card\n",
    "class CreditCard:\n",
    "    # create a new credit card instance\n",
    "    def __init__(self, customer, bank, acnt, limit):\n",
    "        # name of the customer\n",
    "        self._customer = customer\n",
    "        # name of the bank\n",
    "        self._bank = bank\n",
    "        # account identifier (account number)\n",
    "        self._account = acnt\n",
    "        # credit limit\n",
    "        self._limit = limit\n",
    "        # balance, initially will be 0\n",
    "        self._balance = 0\n",
    "\n",
    "    def get_customer(self):\n",
    "        # return name of the customer\n",
    "        return self._customer\n",
    "\n",
    "    def get_bank(self):\n",
    "        # return bank name\n",
    "        return self._bank\n",
    "    \n",
    "    def get_account(self):\n",
    "        return self._account\n",
    "    \n",
    "    def get_limit(self):\n",
    "        return self._limit\n",
    "    \n",
    "    def get_balance(self):\n",
    "        return self._balance\n",
    "\n",
    "    def charge(self, price):\n",
    "        if price _ self._balance > self._limit:\n",
    "            return False\n",
    "        else:\n",
    "            self._balance += price\n",
    "            return True\n",
    "    \n",
    "    def make_payment(self, amount):\n",
    "        self._balance -= amount"
   ]
  },
  {
   "cell_type": "code",
   "execution_count": null,
   "metadata": {},
   "outputs": [],
   "source": []
  }
 ],
 "metadata": {
  "kernelspec": {
   "display_name": "Python 3.9.12 ('base')",
   "language": "python",
   "name": "python3"
  },
  "language_info": {
   "name": "python",
   "version": "3.9.12"
  },
  "orig_nbformat": 4,
  "vscode": {
   "interpreter": {
    "hash": "40203b3ec892d21f304b904bd7441b754322a8b95cad2515f623282baa87ac4b"
   }
  }
 },
 "nbformat": 4,
 "nbformat_minor": 2
}
